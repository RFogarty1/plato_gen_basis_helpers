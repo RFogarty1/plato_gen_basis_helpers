{
 "cells": [
  {
   "cell_type": "markdown",
   "metadata": {},
   "source": [
    "**Testing the plotter for handling crystal field matrix element values/differences works as expected**"
   ]
  },
  {
   "cell_type": "markdown",
   "metadata": {},
   "source": [
    "**Imports**"
   ]
  },
  {
   "cell_type": "code",
   "execution_count": null,
   "metadata": {},
   "outputs": [],
   "source": [
    "import numpy as np\n",
    "import gen_basis_helpers.elemental_eos.data_plotter_matrix_eles as dPlotter\n",
    "\n",
    "import matplotlib.pyplot as plt"
   ]
  },
  {
   "cell_type": "markdown",
   "metadata": {},
   "source": [
    "**Create Test Data**"
   ]
  },
  {
   "cell_type": "code",
   "execution_count": null,
   "metadata": {},
   "outputs": [],
   "source": [
    "methodAData = np.array( ([1,1,1,1],[2,2,4,8], [3,3,9,27]) ) #Each list is one volume(1st indx)\n",
    "methodBData = np.array( ([1,1,1,1],[2,3,5,9], [3,5,7,29]) )\n",
    "inpData = [methodAData, methodBData]"
   ]
  },
  {
   "cell_type": "markdown",
   "metadata": {},
   "source": [
    "**Make the most simple plot possible**"
   ]
  },
  {
   "cell_type": "code",
   "execution_count": null,
   "metadata": {},
   "outputs": [],
   "source": [
    "basicPlotter = dPlotter.DataPlotterDiagMatrixEles.fromDefaultPlusKwargs()"
   ]
  },
  {
   "cell_type": "code",
   "execution_count": null,
   "metadata": {},
   "outputs": [],
   "source": [
    "currFig = basicPlotter.createPlot(inpData)"
   ]
  },
  {
   "cell_type": "markdown",
   "metadata": {},
   "source": [
    "**Test out that lineStyles/colors/Legend are all set correctly**"
   ]
  },
  {
   "cell_type": "code",
   "execution_count": null,
   "metadata": {},
   "outputs": [],
   "source": [
    "#%pdb\n",
    "testLineStyles = [\":\",\"-\",'--'] #1 per method, meaning the 3rd style SHOULD be ignored\n",
    "testLineColors = ['r','g','b','y'] #1 per data column for each method. Last one SHOULD be ignored\n",
    "testMarkers = ['o']\n",
    "testMarkerSizes=[5]\n",
    "outFig = basicPlotter.createPlot(inpData,lineStyles=testLineStyles, lineColors=testLineColors,\n",
    "                                 legend=True, dataLabels=[\"methA\",\"methB\"], lineMarkers=testMarkers,\n",
    "                                 lineMarkerSizes=testMarkerSizes)\n",
    "\n",
    "# outFig = basicPlotter.createPlot(inpData,lineStyles=testLineStyles, lineColors=testLineColors,\n",
    "#                                  legend=True, dataLabels=[\"methA\",\"methB\"])\n",
    "\n"
   ]
  },
  {
   "cell_type": "markdown",
   "metadata": {},
   "source": [
    "Below:An edge case for the line colors, whereby we only set 1 color"
   ]
  },
  {
   "cell_type": "code",
   "execution_count": null,
   "metadata": {},
   "outputs": [],
   "source": [
    "testLineColors = ['r'] #1 per data column for each method. Last one SHOULD be ignored\n",
    "testMarkers = ['o']\n",
    "testMarkerSizes=[5]\n",
    "outFig = basicPlotter.createPlot(inpData,lineStyles=testLineStyles, lineColors=testLineColors,\n",
    "                                 legend=True, dataLabels=[\"methA\",\"methB\"], lineMarkers=testMarkers,\n",
    "                                 lineMarkerSizes=testMarkerSizes)\n"
   ]
  },
  {
   "cell_type": "code",
   "execution_count": null,
   "metadata": {},
   "outputs": [],
   "source": []
  },
  {
   "cell_type": "code",
   "execution_count": null,
   "metadata": {},
   "outputs": [],
   "source": []
  },
  {
   "cell_type": "code",
   "execution_count": null,
   "metadata": {},
   "outputs": [],
   "source": []
  }
 ],
 "metadata": {
  "kernelspec": {
   "display_name": "Python 3",
   "language": "python",
   "name": "python3"
  },
  "language_info": {
   "codemirror_mode": {
    "name": "ipython",
    "version": 3
   },
   "file_extension": ".py",
   "mimetype": "text/x-python",
   "name": "python",
   "nbconvert_exporter": "python",
   "pygments_lexer": "ipython3",
   "version": "3.7.4"
  }
 },
 "nbformat": 4,
 "nbformat_minor": 2
}

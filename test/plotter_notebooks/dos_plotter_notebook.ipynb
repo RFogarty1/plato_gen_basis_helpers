{
 "cells": [
  {
   "cell_type": "code",
   "execution_count": null,
   "metadata": {},
   "outputs": [],
   "source": [
    "''' Notebook to test standard plotter for density of states '''"
   ]
  },
  {
   "cell_type": "code",
   "execution_count": null,
   "metadata": {},
   "outputs": [],
   "source": [
    "import numpy as np\n",
    "import gen_basis_helpers.job_utils.dos_data_plotter as dPlotter"
   ]
  },
  {
   "cell_type": "code",
   "execution_count": null,
   "metadata": {},
   "outputs": [],
   "source": [
    "\n",
    "testActData = np.array(  ([1,2],[2,4],[3,9],[4,16]) )\n",
    "testRefData = np.array(  ([1,3],[2,5],[3,8],[4,13]) )\n",
    "labels = [\"methodAData\",\"referenceData\"]\n",
    "\n"
   ]
  },
  {
   "cell_type": "code",
   "execution_count": null,
   "metadata": {},
   "outputs": [],
   "source": [
    "testPlotter = dPlotter.DataPlotterDos.fromDefaultPlusKwargs()\n",
    "plotData = [testActData, testRefData]"
   ]
  },
  {
   "cell_type": "code",
   "execution_count": null,
   "metadata": {},
   "outputs": [],
   "source": [
    "tempFig = testPlotter.createPlot(plotData,legend=True)"
   ]
  },
  {
   "cell_type": "code",
   "execution_count": null,
   "metadata": {},
   "outputs": [],
   "source": [
    "tempFig = testPlotter.createPlot(plotData,legend=True, dataLabels=[\"methodA\",\"referenceData\"])"
   ]
  },
  {
   "cell_type": "code",
   "execution_count": null,
   "metadata": {},
   "outputs": [],
   "source": [
    "tempFig = testPlotter.createPlot(plotData,lineStyles=[\":\"])"
   ]
  },
  {
   "cell_type": "code",
   "execution_count": null,
   "metadata": {},
   "outputs": [],
   "source": []
  },
  {
   "cell_type": "markdown",
   "metadata": {},
   "source": [
    "The second half of this notebook is using this via the analyser interface (which sets this as the default dataPlotter).\n",
    "\n",
    "The first step is to make a simple plot with no extra args specified"
   ]
  },
  {
   "cell_type": "code",
   "execution_count": null,
   "metadata": {},
   "outputs": [],
   "source": [
    "import gen_basis_helpers.job_utils.dos_objs as dosObjs"
   ]
  },
  {
   "cell_type": "code",
   "execution_count": null,
   "metadata": {},
   "outputs": [],
   "source": [
    "testLabel = dosObjs.DosLabel(eleKey=\"Mg\", structKey=\"hcp\", methodKey=\"methodA\")\n",
    "testEFermi = 1.0\n",
    "analyser = dosObjs.DosAnalyserStandard(testActData, testEFermi, testLabel)"
   ]
  },
  {
   "cell_type": "code",
   "execution_count": null,
   "metadata": {},
   "outputs": [],
   "source": [
    "tempFig=analyser.plotData()"
   ]
  },
  {
   "cell_type": "markdown",
   "metadata": {},
   "source": [
    "Now try plotting with refData passed in two separate ways\n",
    "\n",
    "\n",
    "1) We set it as an extraDataSeries\n",
    "\n",
    "2) We set the refData variable, in which case it should automatically get plotted by default"
   ]
  },
  {
   "cell_type": "code",
   "execution_count": null,
   "metadata": {},
   "outputs": [],
   "source": [
    "tempFig = analyser.plotData( extraData = [testRefData])"
   ]
  },
  {
   "cell_type": "code",
   "execution_count": null,
   "metadata": {},
   "outputs": [],
   "source": [
    "tempFig = analyser.plotData()\n",
    "analyser.refData = testRefData\n",
    "tempFig = analyser.plotData()\n",
    "tempFig = analyser.plotData(inclRefData=False)\n",
    "analyser.refData = None"
   ]
  },
  {
   "cell_type": "markdown",
   "metadata": {},
   "source": [
    "The first plot above should have 1 data series, the second plot should have two and the third plot should have 1"
   ]
  },
  {
   "cell_type": "code",
   "execution_count": null,
   "metadata": {},
   "outputs": [],
   "source": [
    "tempFig = analyser.plotData(inclRefData=False,shiftDataEFermiToZero=True)"
   ]
  }
 ],
 "metadata": {
  "kernelspec": {
   "display_name": "Python 3",
   "language": "python",
   "name": "python3"
  },
  "language_info": {
   "codemirror_mode": {
    "name": "ipython",
    "version": 3
   },
   "file_extension": ".py",
   "mimetype": "text/x-python",
   "name": "python",
   "nbconvert_exporter": "python",
   "pygments_lexer": "ipython3",
   "version": "3.7.4"
  }
 },
 "nbformat": 4,
 "nbformat_minor": 2
}

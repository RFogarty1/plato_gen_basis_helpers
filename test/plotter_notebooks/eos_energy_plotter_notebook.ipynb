{
 "cells": [
  {
   "cell_type": "markdown",
   "metadata": {},
   "source": [
    "**Testing the energy vs volume plotter works as expected**"
   ]
  },
  {
   "cell_type": "markdown",
   "metadata": {},
   "source": [
    "**Imports**"
   ]
  },
  {
   "cell_type": "code",
   "execution_count": null,
   "metadata": {},
   "outputs": [],
   "source": [
    "import numpy as np\n",
    "import matplotlib.pyplot as plt\n",
    "\n",
    "from gen_basis_helpers.elemental_eos.data_plotter_energy_breakdowns import EosEnergyDataPlotter as dPlotter"
   ]
  },
  {
   "cell_type": "markdown",
   "metadata": {},
   "source": [
    "**Create test data**"
   ]
  },
  {
   "cell_type": "code",
   "execution_count": null,
   "metadata": {},
   "outputs": [],
   "source": [
    "\n",
    "testMethAData = [np.array(([1,1],[2,2])),\n",
    "                 np.array(([1,2],[2,4]))]\n",
    "\n",
    "testMethBData = [np.array(([3,3],[4,4])),\n",
    "                 np.array(([3,6],[5,12],[4,8])),\n",
    "                 np.array(([3,9],[4,16]))]\n",
    "\n",
    "testData = [testMethAData, testMethBData]\n"
   ]
  },
  {
   "cell_type": "markdown",
   "metadata": {},
   "source": [
    "**Make the most basic plot possible**"
   ]
  },
  {
   "cell_type": "code",
   "execution_count": null,
   "metadata": {},
   "outputs": [],
   "source": [
    "plotter = dPlotter.fromDefaultPlusKwargs()\n",
    "plotter.createPlot(testData)"
   ]
  },
  {
   "cell_type": "markdown",
   "metadata": {},
   "source": [
    "**Make a plot where different methods have line-styles, and different data-series (within methods) have different line colors**\n",
    "\n",
    "(Note - the first method goes x=1 to 2.0, the second goes x>3)"
   ]
  },
  {
   "cell_type": "code",
   "execution_count": null,
   "metadata": {},
   "outputs": [],
   "source": [
    "markers = ['.']\n",
    "lineStyles = ['-',':']\n",
    "lineColors = ['r','g','b']\n",
    "dataLabels = [\"methodA\",\"methodB\"]\n",
    "plotter.createPlot(testData, lineMarkers=markers, lineStyles=lineStyles, lineColors=lineColors,\n",
    "                   dataLabels=dataLabels, legend=True)"
   ]
  },
  {
   "cell_type": "code",
   "execution_count": null,
   "metadata": {},
   "outputs": [],
   "source": []
  },
  {
   "cell_type": "code",
   "execution_count": null,
   "metadata": {},
   "outputs": [],
   "source": []
  },
  {
   "cell_type": "code",
   "execution_count": null,
   "metadata": {},
   "outputs": [],
   "source": []
  }
 ],
 "metadata": {
  "kernelspec": {
   "display_name": "Python 3",
   "language": "python",
   "name": "python3"
  },
  "language_info": {
   "codemirror_mode": {
    "name": "ipython",
    "version": 3
   },
   "file_extension": ".py",
   "mimetype": "text/x-python",
   "name": "python",
   "nbconvert_exporter": "python",
   "pygments_lexer": "ipython3",
   "version": "3.5.2"
  }
 },
 "nbformat": 4,
 "nbformat_minor": 2
}
